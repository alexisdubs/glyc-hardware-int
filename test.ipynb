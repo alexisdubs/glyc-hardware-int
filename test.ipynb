{
 "cells": [
  {
   "cell_type": "code",
   "execution_count": 2,
   "metadata": {},
   "outputs": [],
   "source": [
    "import pandas as pd\n",
    "import os\n",
    "\n",
    "from read_fncs import read_data, simplify_data"
   ]
  },
  {
   "cell_type": "code",
   "execution_count": 19,
   "metadata": {},
   "outputs": [],
   "source": [
    "foldername = 'data'\n",
    "glycanname = 'glycans.xls'\n",
    "filenames = ['other.xlsx']\n",
    "\n",
    "start_time = '2024-08-01 00:01'\n",
    "start_time = pd.to_datetime(start_time)\n",
    "glycan_times = ['2024-08-01 12:01']\n",
    "glycan_times = pd.to_datetime(glycan_times)\n",
    "\n",
    "# glycans\n",
    "# read in glycan data\n",
    "file_path = os.path.join(foldername, glycanname)\n",
    "data = read_data(file_path)\n",
    "glycan_data = simplify_data(data)\n",
    "# convert list to dataframe\n",
    "glycan_df = pd.DataFrame(glycan_data)\n",
    "# flip orientation\n",
    "glycan_df = glycan_df.transpose()\n",
    "# make name of glycans column names\n",
    "glycan_df.columns = glycan_df.iloc[0]\n",
    "glycan_df = glycan_df[1:]\n",
    "# set glycan time as index\n",
    "glycan_df.index = glycan_times\n",
    "glycan_df.index.name = 'datetime'\n",
    "\n",
    "# Read in all the rest\n",
    "df_list = []\n",
    "# read in each file into a dataframe\n",
    "for filename in filenames:\n",
    "    file_path = os.path.join(foldername, filename)\n",
    "    df = pd.read_excel(file_path, index_col=0)\n",
    "    df_list.append(df)\n",
    "\n",
    "# add glycans to list of dataframes with all the data\n",
    "df_list.append(glycan_df)\n",
    "\n",
    "# combine all the dataframes\n",
    "data_all = pd.concat(df_list)\n",
    "# sort so in order of date time\n",
    "data_all = data_all.sort_index()\n",
    "\n",
    "# convert dateteime to time since start\n",
    "difference = data_all.index - start_time\n",
    "difference = difference.total_seconds()/3600\n",
    "data_all.set_index(difference, inplace=True)"
   ]
  },
  {
   "cell_type": "code",
   "execution_count": null,
   "metadata": {},
   "outputs": [],
   "source": []
  }
 ],
 "metadata": {
  "kernelspec": {
   "display_name": "Python 3",
   "language": "python",
   "name": "python3"
  },
  "language_info": {
   "codemirror_mode": {
    "name": "ipython",
    "version": 3
   },
   "file_extension": ".py",
   "mimetype": "text/x-python",
   "name": "python",
   "nbconvert_exporter": "python",
   "pygments_lexer": "ipython3",
   "version": "3.11.9"
  }
 },
 "nbformat": 4,
 "nbformat_minor": 2
}
